{
  "nbformat": 4,
  "nbformat_minor": 0,
  "metadata": {
    "colab": {
      "name": "lab2.ipynb",
      "provenance": [],
      "authorship_tag": "ABX9TyOR6QdTgtLlJ6H65W66S5bn",
      "include_colab_link": true
    },
    "kernelspec": {
      "name": "python3",
      "display_name": "Python 3"
    },
    "language_info": {
      "name": "python"
    }
  },
  "cells": [
    {
      "cell_type": "markdown",
      "metadata": {
        "id": "view-in-github",
        "colab_type": "text"
      },
      "source": [
        "<a href=\"https://colab.research.google.com/github/by-thoma/visualization-modeling/blob/main/lab2.ipynb\" target=\"_parent\"><img src=\"https://colab.research.google.com/assets/colab-badge.svg\" alt=\"Open In Colab\"/></a>"
      ]
    },
    {
      "cell_type": "markdown",
      "metadata": {
        "id": "tOzydIqEaicl"
      },
      "source": [
        "Название | Описание | Формат | Шкала \n",
        "--- | --- | --- | --- | \n",
        "course id | номер для идентификации набора данных | int | номинальная | \n",
        "course title | название курса | str | номинальная |\n",
        "url | URL курса | str | номинальная | \n",
        "is paid | платный/бесплатный курс | bool | порядковая | \n",
        "price | цена курса в долларах | int | относительная | \n",
        "num subscribers | количество подписок на курс | int | относительная | \n",
        "num reviews | количество отзывов | int | относительная |\n",
        "num lectures | количество лекций | int | относительная | \n",
        "level | уровень сложности курса | str | порядковая | \n",
        "content duration | продолжительность всех материалов курса | float | относительная |\n",
        "published timestamp | дата загрузки курса | date | относительная | \n",
        "subject | предмет курса | str | номинальная | "
      ]
    },
    {
      "cell_type": "code",
      "metadata": {
        "id": "ITa1zkIipka-"
      },
      "source": [
        "import pandas as pd\n",
        "import matplotlib.pyplot as plt\n",
        "from operator import itemgetter"
      ],
      "execution_count": null,
      "outputs": []
    },
    {
      "cell_type": "code",
      "metadata": {
        "id": "48EdC4oBpr-J"
      },
      "source": [
        "df = pd.read_csv(\"udemy_courses.csv\")"
      ],
      "execution_count": null,
      "outputs": []
    },
    {
      "cell_type": "code",
      "metadata": {
        "colab": {
          "base_uri": "https://localhost:8080/"
        },
        "id": "sz4F8iUVp-Ue",
        "outputId": "17279f79-f696-4751-face-a7bd3a0d4cb6"
      },
      "source": [
        "print(df.head()) # просмотр первых рядов\n",
        "print(df.tail()) #нижних"
      ],
      "execution_count": null,
      "outputs": [
        {
          "output_type": "stream",
          "text": [
            "   course_id  ...           subject\n",
            "0    1070968  ...  Business Finance\n",
            "1    1113822  ...  Business Finance\n",
            "2    1006314  ...  Business Finance\n",
            "3    1210588  ...  Business Finance\n",
            "4    1011058  ...  Business Finance\n",
            "\n",
            "[5 rows x 12 columns]\n",
            "      course_id  ...          subject\n",
            "3673     775618  ...  Web Development\n",
            "3674    1088178  ...  Web Development\n",
            "3675     635248  ...  Web Development\n",
            "3676     905096  ...  Web Development\n",
            "3677     297602  ...  Web Development\n",
            "\n",
            "[5 rows x 12 columns]\n"
          ],
          "name": "stdout"
        }
      ]
    },
    {
      "cell_type": "markdown",
      "metadata": {
        "id": "bthnEuNmq_F0"
      },
      "source": [
        "Посмотрим типы столбцов таблицы"
      ]
    },
    {
      "cell_type": "code",
      "metadata": {
        "colab": {
          "base_uri": "https://localhost:8080/"
        },
        "id": "PEMgb-wiqxaL",
        "outputId": "5ab03a99-e476-47ed-97b6-9e0eaec23501"
      },
      "source": [
        "print(df.dtypes)"
      ],
      "execution_count": null,
      "outputs": [
        {
          "output_type": "stream",
          "text": [
            "course_id                int64\n",
            "course_title            object\n",
            "url                     object\n",
            "is_paid                   bool\n",
            "price                    int64\n",
            "num_subscribers          int64\n",
            "num_reviews              int64\n",
            "num_lectures             int64\n",
            "level                   object\n",
            "content_duration       float64\n",
            "published_timestamp     object\n",
            "subject                 object\n",
            "dtype: object\n"
          ],
          "name": "stdout"
        }
      ]
    },
    {
      "cell_type": "markdown",
      "metadata": {
        "id": "O4zeYDE8rTbE"
      },
      "source": [
        "Подсчет нулевых значений по колонкам. Метод isna выводит таблицу со значениями true/False. если true значит ячейка пустая. Пустых значений нет"
      ]
    },
    {
      "cell_type": "code",
      "metadata": {
        "colab": {
          "base_uri": "https://localhost:8080/"
        },
        "id": "YClxNQuNrKV7",
        "outputId": "71053bb7-4fc8-4246-9d84-b3dac7a547b2"
      },
      "source": [
        "cols = list(df.columns)\n",
        "df_na = {col: list(pd.isna(df[col])).count(True) for col in cols}\n",
        "df_na"
      ],
      "execution_count": null,
      "outputs": [
        {
          "output_type": "execute_result",
          "data": {
            "text/plain": [
              "{'content_duration': 0,\n",
              " 'course_id': 0,\n",
              " 'course_title': 0,\n",
              " 'is_paid': 0,\n",
              " 'level': 0,\n",
              " 'num_lectures': 0,\n",
              " 'num_reviews': 0,\n",
              " 'num_subscribers': 0,\n",
              " 'price': 0,\n",
              " 'published_timestamp': 0,\n",
              " 'subject': 0,\n",
              " 'url': 0}"
            ]
          },
          "metadata": {
            "tags": []
          },
          "execution_count": 8
        }
      ]
    },
    {
      "cell_type": "markdown",
      "metadata": {
        "id": "Mlab0JQ6sOkn"
      },
      "source": [
        "Посмотрим статистические данные столбца с количеством подписчиков"
      ]
    },
    {
      "cell_type": "code",
      "metadata": {
        "colab": {
          "base_uri": "https://localhost:8080/"
        },
        "id": "SebGx6VCr-II",
        "outputId": "cffb0529-c712-4489-f8b8-bfd560326b20"
      },
      "source": [
        "subs_stat = {\n",
        "    'min': df['num_subscribers'].min(),\n",
        "    'max': df['num_subscribers'].max(),\n",
        "    'mean': df['num_subscribers'].mean(),#среднее арифм\n",
        "    'median': df['num_subscribers'].median(),\n",
        "    'mode': df['num_subscribers'].mode().to_list(),\n",
        "    'var': df['num_subscribers'].var(ddof=0),# дисперсия. как величина колеблится\n",
        "    'std': df['num_subscribers'].std(ddof=0),#стандартное отклонение\n",
        "    'range': df['num_subscribers'].max() - df['num_subscribers'].min(),\n",
        "    'interquartile_range': df['num_subscribers'].quantile(0.75) - df['num_subscribers'].quantile(0.25),\n",
        "    'skew': df['num_subscribers'].skew()#асимметрия\n",
        "            }\n",
        "subs_stat"
      ],
      "execution_count": null,
      "outputs": [
        {
          "output_type": "execute_result",
          "data": {
            "text/plain": [
              "{'interquartile_range': 2435.0,\n",
              " 'max': 268923,\n",
              " 'mean': 3197.150625339859,\n",
              " 'median': 911.5,\n",
              " 'min': 0,\n",
              " 'mode': [0],\n",
              " 'range': 268923,\n",
              " 'skew': 11.541417343075091,\n",
              " 'std': 9502.824900172993,\n",
              " 'var': 90303681.08334784}"
            ]
          },
          "metadata": {
            "tags": []
          },
          "execution_count": 35
        }
      ]
    },
    {
      "cell_type": "markdown",
      "metadata": {
        "id": "wid_n8EBv06s"
      },
      "source": [
        "# Круговая диаграмма платные \\ бесплатные курсы"
      ]
    },
    {
      "cell_type": "markdown",
      "metadata": {
        "id": "lS79cm_NtHQ2"
      },
      "source": [
        "Выделение только платных курсов и нахождение процентного соотношения от всех курсов."
      ]
    },
    {
      "cell_type": "code",
      "metadata": {
        "colab": {
          "base_uri": "https://localhost:8080/"
        },
        "id": "Ua4tjmq-tCS2",
        "outputId": "ec959740-e4fd-4e25-d3af-3270bebbaa9d"
      },
      "source": [
        "paid_df = df.loc[df['is_paid'] == True]\n",
        "paid_num = paid_df.shape[0]\n",
        "paid_percent = paid_num/df.shape[0]*100\n",
        "print(\"Кол-во платных курсов: \", paid_num,\"Процентное соотношение: \",paid_percent,sep = '\\n')"
      ],
      "execution_count": null,
      "outputs": [
        {
          "output_type": "stream",
          "text": [
            "Кол-во платных курсов: \n",
            "3368\n",
            "Процентное соотношение: \n",
            "91.57150625339858\n"
          ],
          "name": "stdout"
        }
      ]
    },
    {
      "cell_type": "markdown",
      "metadata": {
        "id": "WIX070tttun8"
      },
      "source": [
        "Выделение только бесплатных курсов"
      ]
    },
    {
      "cell_type": "code",
      "metadata": {
        "colab": {
          "base_uri": "https://localhost:8080/"
        },
        "id": "8iT3pWd7tq8O",
        "outputId": "50a4c887-439c-4935-c0fc-ebaa2d088297"
      },
      "source": [
        "free_df = df.loc[df['is_paid'] == False]\n",
        "free_num = free_df.shape[0]\n",
        "free_percent = free_num/df.shape[0]*100\n",
        "print(\"Кол-во бесплатных курсов:\",free_num,\"Процентное соотношение: \", free_percent,sep = '\\n')\n"
      ],
      "execution_count": null,
      "outputs": [
        {
          "output_type": "stream",
          "text": [
            "Кол-во бесплатных курсов:\n",
            "310\n",
            "Процентное соотношение: \n",
            "8.428493746601413\n"
          ],
          "name": "stdout"
        }
      ]
    },
    {
      "cell_type": "markdown",
      "metadata": {
        "id": "G24uCOKrrMrg"
      },
      "source": [
        "Как видно из процентных соотношений, выбранный датасет ориентирован в основном на платные курсы, поэтому на них можно получить более подробную и точную информацию. "
      ]
    },
    {
      "cell_type": "markdown",
      "metadata": {
        "id": "6imjGVp6xnkv"
      },
      "source": [
        ""
      ]
    },
    {
      "cell_type": "markdown",
      "metadata": {
        "id": "uwUuTSZLwFSe"
      },
      "source": [
        "Круговая диаграмма хорошо визуализирует распределение платных и бесплатных курсов в данном датасете"
      ]
    },
    {
      "cell_type": "code",
      "metadata": {
        "colab": {
          "base_uri": "https://localhost:8080/",
          "height": 320
        },
        "id": "Olr51jJov0ic",
        "outputId": "a15fd454-b709-4048-c568-dd446cc5b3fb"
      },
      "source": [
        "Paid_pie = pd.DataFrame({\"\":[paid_num,free_num]}, index = ['Paid','Free'])\n",
        "Paid_pie.plot.pie(y='',\n",
        "                  colors = ['c','m'],\n",
        "                  autopct = '%.1f',\n",
        "                  fontsize = 10,\n",
        "                  figsize = (5,5))\n"
      ],
      "execution_count": null,
      "outputs": [
        {
          "output_type": "execute_result",
          "data": {
            "text/plain": [
              "<matplotlib.axes._subplots.AxesSubplot at 0x7fa64d7d0c50>"
            ]
          },
          "metadata": {
            "tags": []
          },
          "execution_count": 12
        },
        {
          "output_type": "display_data",
          "data": {
            "image/png": "[encoded data removed]",
            "text/plain": [
              "<Figure size 360x360 with 1 Axes>"
            ]
          },
          "metadata": {
            "tags": []
          }
        }
      ]
    },
    {
      "cell_type": "markdown",
      "metadata": {
        "id": "kHZpOxx-wW0V"
      },
      "source": [
        "Т.к. датасет практически не содержит данных о бесплатных курсах, данные в дальнейшем берутся только о платных. \n"
      ]
    },
    {
      "cell_type": "markdown",
      "metadata": {
        "id": "C0QxYLr7wmyx"
      },
      "source": [
        "#Распределение уровней подготовки"
      ]
    },
    {
      "cell_type": "markdown",
      "metadata": {
        "id": "PV3UeWcMx0WA"
      },
      "source": [
        "Создан список представляющий собой столбец: уровень подготовки. Подсчитывается количество каждого уникального значения. В отдельный датафрейм записываются уровни подготовки и количество каждого из них. Предположим, что количество курсов уровня \"Эксперт\" мало и незначительно по сравнению с остальными значениями"
      ]
    },
    {
      "cell_type": "code",
      "metadata": {
        "id": "KwdDcZ6SwWXp"
      },
      "source": [
        "levels_data = {name: paid_df['level'].to_list().count(name) for name in paid_df['level'].unique()}# создание списка со знач-и уровней подготовки\n",
        "cases = []\n",
        "levels = []\n",
        "for level,cases_num in levels_data.items():\n",
        "    levels.append(level)\n",
        "    cases.append(cases_num)\n",
        "levels_info = pd.DataFrame({'':cases},\n",
        "                           index=levels)"
      ],
      "execution_count": null,
      "outputs": []
    },
    {
      "cell_type": "markdown",
      "metadata": {
        "id": "ztgRUVQ7x-pf"
      },
      "source": [
        "Построим датафрейм без уровня эксперт"
      ]
    },
    {
      "cell_type": "code",
      "metadata": {
        "id": "Xds9mXv5x5W4"
      },
      "source": [
        "cases1 = []\n",
        "levels1 = []\n",
        "for level,cases_num in levels_data.items():\n",
        "    if level != 'Expert Level':\n",
        "        levels1.append(level)\n",
        "        cases1.append(cases_num)\n",
        "levels_info1 = pd.DataFrame({'':cases1},index=levels1) "
      ],
      "execution_count": null,
      "outputs": []
    },
    {
      "cell_type": "markdown",
      "metadata": {
        "id": "vJAHfTIKyX98"
      },
      "source": [
        "Построение двух круговых диаграмм"
      ]
    },
    {
      "cell_type": "code",
      "metadata": {
        "colab": {
          "base_uri": "https://localhost:8080/",
          "height": 352
        },
        "id": "_MqfIXmNyUk4",
        "outputId": "9934c374-3100-4e18-c169-a4408bb45067"
      },
      "source": [
        "fig,axes = plt.subplots(nrows=1,ncols=2)\n",
        "levels_info.plot.pie(ax = axes[0],y='',\n",
        "                     colors=[\"deepskyblue\", \"mediumspringgreen\", \"orange\", \"orchid\"],\n",
        "                     autopct=\"%.1f\",\n",
        "                     fontsize=10,\n",
        "                     figsize=(12, 12))\n",
        "levels_info1.plot.pie(ax = axes[1],y='',\n",
        "                      colors=[\"deepskyblue\", \"mediumspringgreen\", \"orange\"],\n",
        "                      autopct=\"%.1f\",\n",
        "                      fontsize=10,\n",
        "                      figsize=(12, 12))"
      ],
      "execution_count": null,
      "outputs": [
        {
          "output_type": "execute_result",
          "data": {
            "text/plain": [
              "<matplotlib.axes._subplots.AxesSubplot at 0x7fa64d28ab90>"
            ]
          },
          "metadata": {
            "tags": []
          },
          "execution_count": 15
        },
        {
          "output_type": "display_data",
          "data": {
            "image/png": "[encoded data removed]",
            "text/plain": [
              "<Figure size 864x864 with 2 Axes>"
            ]
          },
          "metadata": {
            "tags": []
          }
        }
      ]
    },
    {
      "cell_type": "markdown",
      "metadata": {
        "id": "_vmgmUzYzotF"
      },
      "source": [
        "Видно, что про \"Экспертный уровень\" практически не упоминается в данном датасете, однако в перспективе можно выделить этот немаловажный класс и изучить отдельно."
      ]
    },
    {
      "cell_type": "markdown",
      "metadata": {
        "id": "F0ZZ_mOsz71P"
      },
      "source": [
        " # Распределение всех курсов по предметным областям "
      ]
    },
    {
      "cell_type": "markdown",
      "metadata": {
        "id": "N9Itz0rb0m-g"
      },
      "source": [
        "Создан датафрейм со значениями предмета курса и кол-ва каждого из них, построена столбиковая диаграмма, показывающая как курсы распределены по предметам.\n",
        "Видно, что курсов по бизнес финансам и веб-разработке намного больше , чем остальных. Исследуем распределение подписчиков по этим предметным областям."
      ]
    },
    {
      "cell_type": "code",
      "metadata": {
        "colab": {
          "base_uri": "https://localhost:8080/",
          "height": 320
        },
        "id": "u041vMxG0HCE",
        "outputId": "6aaca2a1-42a8-494a-b067-27b4686c96f8"
      },
      "source": [
        "subject_data = [(name,paid_df['subject'].to_list().count(name)) for name in paid_df['subject'].unique()\n",
        "                if paid_df['subject'].to_list().count(name)>0] \n",
        "subject_data = sorted(subject_data,key = itemgetter(1))\n",
        "\n",
        "subject = []\n",
        "quantity =[]\n",
        "for subjects,qual in subject_data:\n",
        "    subject.append(subjects)\n",
        "    quantity.append(qual)\n",
        "subject_df = pd.DataFrame({'subject':subject,'num':quantity})\n",
        "\n",
        "ax = subject_df.plot.barh(x = 'subject',y = 'num',figsize=(12,5))"
      ],
      "execution_count": null,
      "outputs": [
        {
          "output_type": "display_data",
          "data": {
            "image/png": "[encoded data removed]",
            "text/plain": [
              "<Figure size 864x360 with 1 Axes>"
            ]
          },
          "metadata": {
            "tags": [],
            "needs_background": "light"
          }
        }
      ]
    },
    {
      "cell_type": "markdown",
      "metadata": {
        "id": "jFm9tPcH21ea"
      },
      "source": [
        "#Распределение уровней по предметным областям"
      ]
    },
    {
      "cell_type": "code",
      "metadata": {
        "colab": {
          "base_uri": "https://localhost:8080/",
          "height": 166
        },
        "id": "mmsdV3r02gek",
        "outputId": "d1dfab56-c321-46af-b03e-89ac6177cd64"
      },
      "source": [
        "level_data_lev = [(name,\n",
        "                     paid_df['level'].to_list().count(name),\n",
        "                     paid_df.query(\"subject == 'Graphic Design'\")['level'].to_list().count(name),\n",
        "                     paid_df.query(\"subject == 'Musical Instruments'\")['level'].to_list().count(name),\n",
        "                     paid_df.query(\"subject == 'Web Development'\")['level'].to_list().count(name),\n",
        "                     paid_df.query(\"subject == 'Business Finance'\")['level'].to_list().count(name))\n",
        "                    for name in paid_df['level'].unique()\n",
        "                    if paid_df['level'].to_list().count(name)>0]\n",
        "level_data_lev = sorted(level_data_lev,key=itemgetter(1))\n",
        "level_df = pd.DataFrame.from_records(level_data_lev,\n",
        "                                       columns=['Level','Total','Graphic Design','Musical Instruments',\n",
        "                                                'Web Development','Business Finance'])\n",
        "level_df"
      ],
      "execution_count": null,
      "outputs": [
        {
          "output_type": "execute_result",
          "data": {
            "text/html": [
              "<div>\n",
              "<style scoped>\n",
              "    .dataframe tbody tr th:only-of-type {\n",
              "        vertical-align: middle;\n",
              "    }\n",
              "\n",
              "    .dataframe tbody tr th {\n",
              "        vertical-align: top;\n",
              "    }\n",
              "\n",
              "    .dataframe thead th {\n",
              "        text-align: right;\n",
              "    }\n",
              "</style>\n",
              "<table border=\"1\" class=\"dataframe\">\n",
              "  <thead>\n",
              "    <tr style=\"text-align: right;\">\n",
              "      <th></th>\n",
              "      <th>Level</th>\n",
              "      <th>Total</th>\n",
              "      <th>Graphic Design</th>\n",
              "      <th>Musical Instruments</th>\n",
              "      <th>Web Development</th>\n",
              "      <th>Business Finance</th>\n",
              "    </tr>\n",
              "  </thead>\n",
              "  <tbody>\n",
              "    <tr>\n",
              "      <th>0</th>\n",
              "      <td>Expert Level</td>\n",
              "      <td>58</td>\n",
              "      <td>5</td>\n",
              "      <td>7</td>\n",
              "      <td>15</td>\n",
              "      <td>31</td>\n",
              "    </tr>\n",
              "    <tr>\n",
              "      <th>1</th>\n",
              "      <td>Intermediate Level</td>\n",
              "      <td>391</td>\n",
              "      <td>55</td>\n",
              "      <td>96</td>\n",
              "      <td>118</td>\n",
              "      <td>122</td>\n",
              "    </tr>\n",
              "    <tr>\n",
              "      <th>2</th>\n",
              "      <td>Beginner Level</td>\n",
              "      <td>1112</td>\n",
              "      <td>225</td>\n",
              "      <td>264</td>\n",
              "      <td>323</td>\n",
              "      <td>300</td>\n",
              "    </tr>\n",
              "    <tr>\n",
              "      <th>3</th>\n",
              "      <td>All Levels</td>\n",
              "      <td>1807</td>\n",
              "      <td>283</td>\n",
              "      <td>267</td>\n",
              "      <td>611</td>\n",
              "      <td>646</td>\n",
              "    </tr>\n",
              "  </tbody>\n",
              "</table>\n",
              "</div>"
            ],
            "text/plain": [
              "                Level  Total  ...  Web Development  Business Finance\n",
              "0        Expert Level     58  ...               15                31\n",
              "1  Intermediate Level    391  ...              118               122\n",
              "2      Beginner Level   1112  ...              323               300\n",
              "3          All Levels   1807  ...              611               646\n",
              "\n",
              "[4 rows x 6 columns]"
            ]
          },
          "metadata": {
            "tags": []
          },
          "execution_count": 18
        }
      ]
    },
    {
      "cell_type": "markdown",
      "metadata": {
        "id": "zYFViZ493pc5"
      },
      "source": [
        "Построена столбиковая диаграмма, по которой видно распределение предметных областей по уровням вхождения. \n",
        "Посмотрим какие курсы более доступны для непросвященного пользователя"
      ]
    },
    {
      "cell_type": "code",
      "metadata": {
        "colab": {
          "base_uri": "https://localhost:8080/",
          "height": 538
        },
        "id": "KU3aY71U2Dl_",
        "outputId": "e3f072da-b56d-470f-9775-f744f471171b"
      },
      "source": [
        "level_df_opt = level_df[(level_df['Level'] !='Expert Level')]\n",
        "\n",
        "df_draw = pd.DataFrame({'Graphic Design': level_df['Graphic Design'].to_list(),\n",
        "                        'Musical Instruments': level_df['Musical Instruments'].to_list(),\n",
        "                        'Web Development': level_df['Web Development'].to_list(),\n",
        "                        'Business Finance': level_df['Business Finance'].to_list()},\n",
        "                       index = level_df['Level'].to_list())\n",
        "\n",
        "df_draw_opt = pd.DataFrame({'Graphic Design': level_df_opt['Graphic Design'].to_list(),\n",
        "                        'Musical Instruments': level_df_opt['Musical Instruments'].to_list(),\n",
        "                        'Web Development': level_df_opt['Web Development'].to_list(),\n",
        "                        'Business Finance': level_df_opt['Business Finance'].to_list()},\n",
        "                       index = level_df_opt['Level'].to_list())\n",
        "print(df_draw)\n",
        "print(df_draw_opt)\n",
        "\n",
        "fig, axes = plt.subplots(nrows=1, ncols=2)\n",
        "df_draw.plot.barh(ax=axes[0],\n",
        "                  color=[\"deepskyblue\", \"mediumspringgreen\", \"orange\", \"yellow\"],\n",
        "                  stacked=True,\n",
        "                  figsize=(12, 5));\n",
        "df_draw_opt.plot.barh(ax=axes[1],\n",
        "                      color=[\"deepskyblue\", \"mediumspringgreen\", \"orange\",\"yellow\"],\n",
        "                      stacked=True,\n",
        "                      figsize=(12, 5));"
      ],
      "execution_count": null,
      "outputs": [
        {
          "output_type": "stream",
          "text": [
            "                    Graphic Design  ...  Business Finance\n",
            "Expert Level                     5  ...                31\n",
            "Intermediate Level              55  ...               122\n",
            "Beginner Level                 225  ...               300\n",
            "All Levels                     283  ...               646\n",
            "\n",
            "[4 rows x 4 columns]\n",
            "                    Graphic Design  ...  Business Finance\n",
            "Intermediate Level              55  ...               122\n",
            "Beginner Level                 225  ...               300\n",
            "All Levels                     283  ...               646\n",
            "\n",
            "[3 rows x 4 columns]\n"
          ],
          "name": "stdout"
        },
        {
          "output_type": "display_data",
          "data": {
            "image/png": "[encoded data removed]",
            "text/plain": [
              "<Figure size 864x360 with 2 Axes>"
            ]
          },
          "metadata": {
            "tags": [],
            "needs_background": "light"
          }
        }
      ]
    },
    {
      "cell_type": "markdown",
      "metadata": {
        "id": "7hCU8Rk64Scx"
      },
      "source": [
        "Видно, что наиболее доступными курсами по двум критериям являются курсы по Бизнес финансам. Посмотрим, какой разброс цен есть в курсах на эту тему. Возьме курсы по веб-разработке для сравнения."
      ]
    },
    {
      "cell_type": "markdown",
      "metadata": {
        "id": "T_lhPI7d5VOm"
      },
      "source": [
        "#Курсы по каким предметам более дорогие"
      ]
    },
    {
      "cell_type": "markdown",
      "metadata": {
        "id": "LiDQmdqs5mZF"
      },
      "source": [
        "Построим гистограмму "
      ]
    },
    {
      "cell_type": "code",
      "metadata": {
        "colab": {
          "base_uri": "https://localhost:8080/",
          "height": 313
        },
        "id": "53bG01O15hoe",
        "outputId": "7f7f9a82-ac76-4681-8874-b53da154fc36"
      },
      "source": [
        "q1 = 30\n",
        "q2 = 60\n",
        "q3 = 90\n",
        "q4 = 120\n",
        "q5 = 160\n",
        "q6 = 200\n",
        "\n",
        "index = [\"[%d;%d)\" %(paid_df['num_lectures'].min(),q1),\n",
        "         \"[%d;%d)\" %(q1, q2),\n",
        "         \"[%d;%d)\" %(q2, q3),\n",
        "         \"[%d;%d)\" %(q3, q4),\n",
        "         \"[%d;%d)\" %(q4, q5),\n",
        "         \"[%d;%d)\" %(q5, q6)]#формирование ценовых категорий\n",
        "print(index)\n",
        "\n",
        "Business_pr = [paid_df.query(\"price < @q1 & subject == 'Business Finance'\").shape[0],\n",
        "         paid_df.query(\"@q1 <= price < @q2 & subject == 'Business Finance'\").shape[0],\n",
        "         paid_df.query(\"@q2 <= price < @q3 & subject == 'Business Finance'\").shape[0],\n",
        "         paid_df.query(\"@q3 <= price < @q4 & subject == 'Business Finance'\").shape[0],\n",
        "         paid_df.query(\"@q4 <= price < @q5 & subject == 'Business Finance'\").shape[0],\n",
        "         paid_df.query(\"@q5 <= price < @q6 & subject == 'Business Finance'\").shape[0]]\n",
        "Web_pr = [paid_df.query(\"price < @q1 & subject == 'Web Development'\").shape[0],\n",
        "         paid_df.query(\"@q1 <= price < @q2 & subject == 'Web Development'\").shape[0],\n",
        "         paid_df.query(\"@q2 <= price < @q3 & subject == 'Web Development'\").shape[0],\n",
        "         paid_df.query(\"@q3 <= price < @q4 & subject == 'Web Development'\").shape[0],\n",
        "         paid_df.query(\"@q4 <= price < @q5 & subject == 'Web Development'\").shape[0],\n",
        "         paid_df.query(\"@q5 <= price < @q6 & subject == 'Web Development'\").shape[0]]# распределение каждого направления по 3 колонкам, разделенным категорией\n",
        "\n",
        "Bus_or_Web = pd.DataFrame({\"Business Finance\": Business_pr, \"Web Development\": Web_pr}, index=index)\n",
        "Bus_or_Web.plot.bar(color=[\"deepskyblue\", \"dimgrey\"],\n",
        "                       rot=0)\n",
        "plt.xlabel(\"Ценовые категории\")\n",
        "plt.ylabel(\"Кол-во курсов\")"
      ],
      "execution_count": null,
      "outputs": [
        {
          "output_type": "stream",
          "text": [
            "['[0;30)', '[30;60)', '[60;90)', '[90;120)', '[120;160)', '[160;200)']\n"
          ],
          "name": "stdout"
        },
        {
          "output_type": "execute_result",
          "data": {
            "text/plain": [
              "Text(0, 0.5, 'Кол-во курсов')"
            ]
          },
          "metadata": {
            "tags": []
          },
          "execution_count": 102
        },
        {
          "output_type": "display_data",
          "data": {
            "image/png": "[encoded data removed]",
            "text/plain": [
              "<Figure size 432x288 with 1 Axes>"
            ]
          },
          "metadata": {
            "tags": [],
            "needs_background": "light"
          }
        }
      ]
    },
    {
      "cell_type": "markdown",
      "metadata": {
        "id": "wamYZ8S657_L"
      },
      "source": [
        "Большинство курсов по данным направлениям расположены в ценовых категориях до 60 долларов. Дешевых курсов по бизнесу намного больше, чем курсов по вебу. Дешевых курсов по бизнесу намного больше, чем курсов по вебу.\n",
        "Дорогих курсов по вебу намного больше,чем по бизнесу. В целом брать дешевые курсы по бизнесу доступнее, чем по вебу: они более многочисленные и их кол-во преобладает в средней и низшей ценовой категории. "
      ]
    },
    {
      "cell_type": "markdown",
      "metadata": {
        "id": "K3XoOPvh6nJw"
      },
      "source": [
        " # Колебание количества лекций в платных курсах"
      ]
    },
    {
      "cell_type": "code",
      "metadata": {
        "colab": {
          "base_uri": "https://localhost:8080/",
          "height": 296
        },
        "id": "xP-Upnny6xdD",
        "outputId": "b74e0d6b-f62c-4c8d-f1dc-a4069644fc04"
      },
      "source": [
        "qu1 = paid_df['num_lectures'].quantile(0.25)\n",
        "qu2 = paid_df['num_lectures'].quantile(0.5)\n",
        "qu3 = paid_df['num_lectures'].quantile(0.75)\n",
        "\n",
        "df_Inter = paid_df.query('@qu1 <= num_lectures <=@qu3')\n",
        "inter_lectures = pd.DataFrame.from_dict(data={lecture: df_Inter['num_lectures'].to_list().count(lecture)\n",
        "                                             for lecture in set(df_Inter['num_lectures'])},\n",
        "                                       orient = 'index',\n",
        "                                       columns=['Lectures']).sort_index()\n",
        "inter_lectures.plot()\n",
        "plt.xlabel(\"Кол-во курсов\")\n",
        "plt.ylabel(\"Кол-во лекций\")"
      ],
      "execution_count": null,
      "outputs": [
        {
          "output_type": "execute_result",
          "data": {
            "text/plain": [
              "Text(0, 0.5, 'Кол-во лекций')"
            ]
          },
          "metadata": {
            "tags": []
          },
          "execution_count": 103
        },
        {
          "output_type": "display_data",
          "data": {
            "image/png": "[encoded data removed]",
            "text/plain": [
              "<Figure size 432x288 with 1 Axes>"
            ]
          },
          "metadata": {
            "tags": [],
            "needs_background": "light"
          }
        }
      ]
    },
    {
      "cell_type": "markdown",
      "metadata": {
        "id": "h111HJZb6_mn"
      },
      "source": [
        "Из графика видно,что в датасете преобладают курсы с небольшим количеством лекций. Возможно курсы с маленьким кол-вом лекций будут дешевле. Возможно будет зависимость между кол-вом лекций и цене курса. "
      ]
    },
    {
      "cell_type": "markdown",
      "metadata": {
        "id": "BZe3xDRC_8ao"
      },
      "source": [
        "# Отзывы"
      ]
    },
    {
      "cell_type": "code",
      "metadata": {
        "colab": {
          "base_uri": "https://localhost:8080/",
          "height": 296
        },
        "id": "C0-hD9UaAAIC",
        "outputId": "106afd4f-a5ea-4627-d746-e4f902ad0a87"
      },
      "source": [
        "qu1 = paid_df['num_reviews'].quantile(0.25)\n",
        "qu2 = paid_df['num_reviews'].quantile(0.5)\n",
        "qu3 = paid_df['num_reviews'].quantile(0.75)\n",
        "\n",
        "df_Inter = paid_df.query('@qu1 <= num_reviews <=@qu3')\n",
        "inter_reviews = pd.DataFrame.from_dict(data={review: df_Inter['num_reviews'].to_list().count(review)\n",
        "                                             for review in set(df_Inter['num_reviews'])},\n",
        "                                       orient = 'index',\n",
        "                                       columns=['Reviews']).sort_index()\n",
        "inter_reviews.plot()\n",
        "plt.xlabel(\"Кол-во курсов\")\n",
        "plt.ylabel(\"Кол-во отзывов\")"
      ],
      "execution_count": null,
      "outputs": [
        {
          "output_type": "execute_result",
          "data": {
            "text/plain": [
              "Text(0, 0.5, 'Кол-во отзывов')"
            ]
          },
          "metadata": {
            "tags": []
          },
          "execution_count": 104
        },
        {
          "output_type": "display_data",
          "data": {
            "image/png": "[encoded data removed]",
            "text/plain": [
              "<Figure size 432x288 with 1 Axes>"
            ]
          },
          "metadata": {
            "tags": [],
            "needs_background": "light"
          }
        }
      ]
    },
    {
      "cell_type": "markdown",
      "metadata": {
        "id": "kJnc0y3VASiE"
      },
      "source": [
        "Видно, что подписчики курсов практически не пишут отзывов, что может плохо сказываться на их продвижении. "
      ]
    },
    {
      "cell_type": "markdown",
      "metadata": {
        "id": "SuoE27xu7UAY"
      },
      "source": [
        "# Кол-во лекций в курсах по разным предметам"
      ]
    },
    {
      "cell_type": "markdown",
      "metadata": {
        "id": "Ujstd3pz7zK5"
      },
      "source": [
        " Попробуем найти распределения кол-ва лекций в курсах \"Business Finance\"и \"Web Developmentценовые распределения которых нам известны. Постороена диаграмма распределения каждого из направлений по промежуткам по кол-ву лекций в курсе.\n"
      ]
    },
    {
      "cell_type": "code",
      "metadata": {
        "colab": {
          "base_uri": "https://localhost:8080/",
          "height": 313
        },
        "id": "T1FCeA9L7bIE",
        "outputId": "d4251ddc-9885-4d52-a491-a495237e1740"
      },
      "source": [
        "q1 = paid_df[\"num_lectures\"].quantile(0.25)\n",
        "q2 = paid_df[\"num_lectures\"].quantile(0.5)\n",
        "q3 = paid_df[\"num_lectures\"].quantile(0.6)\n",
        "q4 = paid_df[\"num_lectures\"].quantile(0.7)\n",
        "q5 = paid_df[\"num_lectures\"].quantile(0.8)\n",
        "q6 = paid_df[\"num_lectures\"].quantile(0.85)\n",
        "\n",
        "index = [\"[%d;%d)\" %(round(paid_df['num_lectures'].min()), round(q1)),\n",
        "         \"[%d;%d)\" %(round(q1), round(q2)),\n",
        "         \"[%d;%d)\" %(round(q2), round(q3)),\n",
        "         \"[%d;%d]\" %(round(q3), round(q4)),\n",
        "         \"[%d;%d]\" %(round(q4), round(q5)),\n",
        "         \"[%d;%d]\" %(round(q5), round(q6))]#формирование категорий по кол-ву материала\n",
        "print(index)\n",
        "\n",
        "Business_sub = [paid_df.query(\"num_lectures < @q1 & subject == 'Business Finance'\").shape[0],\n",
        "         paid_df.query(\"@q1 <= num_lectures < @q2 & subject == 'Business Finance'\").shape[0],\n",
        "         paid_df.query(\"@q2 <= num_lectures < @q3 & subject == 'Business Finance'\").shape[0],\n",
        "         paid_df.query(\"@q3 <= num_lectures < @q4 & subject == 'Business Finance'\").shape[0],\n",
        "         paid_df.query(\"@q4 <= num_lectures < @q5 & subject == 'Business Finance'\").shape[0],\n",
        "         paid_df.query(\"@q5 <= num_lectures < @q6 & subject == 'Business Finance'\").shape[0]]\n",
        "Web_sub = [paid_df.query(\"num_lectures < @q1 & subject == 'Web Development'\").shape[0],\n",
        "         paid_df.query(\"@q1 <= num_lectures < @q2 & subject == 'Web Development'\").shape[0],\n",
        "         paid_df.query(\"@q2 <= num_lectures < @q3 & subject == 'Web Development'\").shape[0],\n",
        "         paid_df.query(\"@q3 <= num_lectures < @q4 & subject == 'Web Development'\").shape[0],\n",
        "         paid_df.query(\"@q4 <= num_lectures < @q5 & subject == 'Web Development'\").shape[0],\n",
        "         paid_df.query(\"@q5 <= num_lectures < @q6 & subject == 'Web Development'\").shape[0]]# распределение каждого направления по 3 колонкам, разделенным категорией\n",
        "\n",
        "Bus_or_Web = pd.DataFrame({\"Business Finance\": Business_sub, \"Web Development\": Web_sub}, index=index)\n",
        "Bus_or_Web.plot.bar(color=[\"deepskyblue\", \"dimgrey\"],\n",
        "                       rot=0)\n",
        "\n",
        "plt.xlabel(\"Кол-во лекций\")\n",
        "plt.ylabel(\"Кол-во курсов\")"
      ],
      "execution_count": null,
      "outputs": [
        {
          "output_type": "stream",
          "text": [
            "['[0;15)', '[15;26)', '[26;33)', '[33;42]', '[42;56]', '[56;68]']\n"
          ],
          "name": "stdout"
        },
        {
          "output_type": "execute_result",
          "data": {
            "text/plain": [
              "Text(0, 0.5, 'Кол-во курсов')"
            ]
          },
          "metadata": {
            "tags": []
          },
          "execution_count": 106
        },
        {
          "output_type": "display_data",
          "data": {
            "image/png": "[encoded data removed]",
            "text/plain": [
              "<Figure size 432x288 with 1 Axes>"
            ]
          },
          "metadata": {
            "tags": [],
            "needs_background": "light"
          }
        }
      ]
    },
    {
      "cell_type": "markdown",
      "metadata": {
        "id": "uh4UwdCr79Bf"
      },
      "source": [
        "В низшей категории кол-во лекций по бизнесу намного превышает кол-во лекций по бизнесу.\n",
        " Выяснилось, что одним из значимых критериев формирования цены является кол-во лекций.\n",
        " Выяснилось, что бизнесом заняться намного доступнее чем вебом:курсов на эту тему больше, многие из них находятся в низшей и средней ценовой категории и содержат достаточно больше кол-во материалов."
      ]
    }
  ]
}