{
  "nbformat": 4,
  "nbformat_minor": 0,
  "metadata": {
    "colab": {
      "name": "lab3.ipynb",
      "provenance": [],
      "collapsed_sections": [],
      "toc_visible": true,
      "authorship_tag": "ABX9TyOhlTXWsc9iCCumipkGsQR2",
      "include_colab_link": true
    },
    "kernelspec": {
      "name": "python3",
      "display_name": "Python 3"
    },
    "language_info": {
      "name": "python"
    }
  },
  "cells": [
    {
      "cell_type": "markdown",
      "metadata": {
        "id": "view-in-github",
        "colab_type": "text"
      },
      "source": [
        "<a href=\"https://colab.research.google.com/github/by-thoma/visualization-modeling/blob/main/lab3.ipynb\" target=\"_parent\"><img src=\"https://colab.research.google.com/assets/colab-badge.svg\" alt=\"Open In Colab\"/></a>"
      ]
    },
    {
      "cell_type": "markdown",
      "metadata": {
        "id": "oI0KQMZ6hKO6"
      },
      "source": [
        "# Предобработка датасета"
      ]
    },
    {
      "cell_type": "markdown",
      "metadata": {
        "id": "E0oKbPaFbt5P"
      },
      "source": [
        "Название | Описание | Формат | Шкала | Проблема | Решение\n",
        "--- | --- | --- | --- | --- | ---\n",
        "course id | номер для идентификации набора данных | int | номинальная | - | \n",
        "course title | название курса | str | номинальная | данный столбец бесполезен при построении модели | удаление столбца\n",
        "url | URL курса | str | номинальная | данный столбец бесполезен при построении модели | удаление столбца\n",
        "is paid | платный/бесплатный курс | bool | порядковая | удобнее будет работать со значениями int нежели bool | перевести bool в int \n",
        "price | цена курса в долларах | int | относительная | - | \n",
        "num subscribers | количество подписок на курс | int | относительная | - | \n",
        "num reviews | количество отзывов | int | относительная | - | \n",
        "num lectures | количество лекций | int | относительная | - |\n",
        "level | уровень сложности курса | str | порядковая | текст неудобно использовать при построении модели | перевод в число\n",
        "content duration | продолжительность всех материалов курса | float | относительная | - |\n",
        "published timestamp | дата загрузки курса | date | относительная | нечитабельный формат даты | перевод в другой формат даты\n",
        "subject | предмет курса | str | номинальная | текст неудобно использовать при построении модели | перевод в число"
      ]
    },
    {
      "cell_type": "markdown",
      "metadata": {
        "id": "rNO2ageczvNU"
      },
      "source": [
        "Есть 2 вида работы над данными:\n",
        "1. перевод текста в числовые значения\n",
        "2. преобразование дат в читаемый Python формат\n",
        "3. удаление потенциально бесполезной информации"
      ]
    },
    {
      "cell_type": "code",
      "metadata": {
        "id": "oZFXZM8U0Ko0"
      },
      "source": [
        "import pandas as pd"
      ],
      "execution_count": null,
      "outputs": []
    },
    {
      "cell_type": "markdown",
      "metadata": {
        "id": "l9X7s_3QYToV"
      },
      "source": [
        "Удалим столбцы содержащие полное название курса и url адрес курса"
      ]
    },
    {
      "cell_type": "code",
      "metadata": {
        "colab": {
          "base_uri": "https://localhost:8080/",
          "height": 279
        },
        "id": "6aVotbZV0Prv",
        "outputId": "4daba38e-7aab-435d-fe22-8b5b4fb3820b"
      },
      "source": [
        "df = pd.read_csv(\"udemy_courses.csv\")\n",
        "df = df.drop(\"course_title\",1)\n",
        "df = df.drop(\"url\",1)\n",
        "df.head()"
      ],
      "execution_count": null,
      "outputs": [
        {
          "output_type": "execute_result",
          "data": {
            "text/html": [
              "<div>\n",
              "<style scoped>\n",
              "    .dataframe tbody tr th:only-of-type {\n",
              "        vertical-align: middle;\n",
              "    }\n",
              "\n",
              "    .dataframe tbody tr th {\n",
              "        vertical-align: top;\n",
              "    }\n",
              "\n",
              "    .dataframe thead th {\n",
              "        text-align: right;\n",
              "    }\n",
              "</style>\n",
              "<table border=\"1\" class=\"dataframe\">\n",
              "  <thead>\n",
              "    <tr style=\"text-align: right;\">\n",
              "      <th></th>\n",
              "      <th>course_id</th>\n",
              "      <th>is_paid</th>\n",
              "      <th>price</th>\n",
              "      <th>num_subscribers</th>\n",
              "      <th>num_reviews</th>\n",
              "      <th>num_lectures</th>\n",
              "      <th>level</th>\n",
              "      <th>content_duration</th>\n",
              "      <th>published_timestamp</th>\n",
              "      <th>subject</th>\n",
              "    </tr>\n",
              "  </thead>\n",
              "  <tbody>\n",
              "    <tr>\n",
              "      <th>0</th>\n",
              "      <td>1070968</td>\n",
              "      <td>True</td>\n",
              "      <td>200</td>\n",
              "      <td>2147</td>\n",
              "      <td>23</td>\n",
              "      <td>51</td>\n",
              "      <td>All Levels</td>\n",
              "      <td>1.5</td>\n",
              "      <td>2017-01-18T20:58:58Z</td>\n",
              "      <td>Business Finance</td>\n",
              "    </tr>\n",
              "    <tr>\n",
              "      <th>1</th>\n",
              "      <td>1113822</td>\n",
              "      <td>True</td>\n",
              "      <td>75</td>\n",
              "      <td>2792</td>\n",
              "      <td>923</td>\n",
              "      <td>274</td>\n",
              "      <td>All Levels</td>\n",
              "      <td>39.0</td>\n",
              "      <td>2017-03-09T16:34:20Z</td>\n",
              "      <td>Business Finance</td>\n",
              "    </tr>\n",
              "    <tr>\n",
              "      <th>2</th>\n",
              "      <td>1006314</td>\n",
              "      <td>True</td>\n",
              "      <td>45</td>\n",
              "      <td>2174</td>\n",
              "      <td>74</td>\n",
              "      <td>51</td>\n",
              "      <td>Intermediate Level</td>\n",
              "      <td>2.5</td>\n",
              "      <td>2016-12-19T19:26:30Z</td>\n",
              "      <td>Business Finance</td>\n",
              "    </tr>\n",
              "    <tr>\n",
              "      <th>3</th>\n",
              "      <td>1210588</td>\n",
              "      <td>True</td>\n",
              "      <td>95</td>\n",
              "      <td>2451</td>\n",
              "      <td>11</td>\n",
              "      <td>36</td>\n",
              "      <td>All Levels</td>\n",
              "      <td>3.0</td>\n",
              "      <td>2017-05-30T20:07:24Z</td>\n",
              "      <td>Business Finance</td>\n",
              "    </tr>\n",
              "    <tr>\n",
              "      <th>4</th>\n",
              "      <td>1011058</td>\n",
              "      <td>True</td>\n",
              "      <td>200</td>\n",
              "      <td>1276</td>\n",
              "      <td>45</td>\n",
              "      <td>26</td>\n",
              "      <td>Intermediate Level</td>\n",
              "      <td>2.0</td>\n",
              "      <td>2016-12-13T14:57:18Z</td>\n",
              "      <td>Business Finance</td>\n",
              "    </tr>\n",
              "  </tbody>\n",
              "</table>\n",
              "</div>"
            ],
            "text/plain": [
              "   course_id  is_paid  ...   published_timestamp           subject\n",
              "0    1070968     True  ...  2017-01-18T20:58:58Z  Business Finance\n",
              "1    1113822     True  ...  2017-03-09T16:34:20Z  Business Finance\n",
              "2    1006314     True  ...  2016-12-19T19:26:30Z  Business Finance\n",
              "3    1210588     True  ...  2017-05-30T20:07:24Z  Business Finance\n",
              "4    1011058     True  ...  2016-12-13T14:57:18Z  Business Finance\n",
              "\n",
              "[5 rows x 10 columns]"
            ]
          },
          "metadata": {
            "tags": []
          },
          "execution_count": 40
        }
      ]
    },
    {
      "cell_type": "markdown",
      "metadata": {
        "id": "o1Oi3hdcE2WZ"
      },
      "source": [
        "# Столбцы level и subject"
      ]
    },
    {
      "cell_type": "code",
      "metadata": {
        "colab": {
          "base_uri": "https://localhost:8080/"
        },
        "id": "brC2b2J42NPr",
        "outputId": "7015ffe4-defc-4596-de3d-71378631b88b"
      },
      "source": [
        "df_norm = df.copy()\n",
        "df_norm[\"level\"].unique()"
      ],
      "execution_count": null,
      "outputs": [
        {
          "output_type": "execute_result",
          "data": {
            "text/plain": [
              "array(['All Levels', 'Intermediate Level', 'Beginner Level',\n",
              "       'Expert Level'], dtype=object)"
            ]
          },
          "metadata": {
            "tags": []
          },
          "execution_count": 41
        }
      ]
    },
    {
      "cell_type": "markdown",
      "metadata": {
        "id": "Kl_0essj4TqB"
      },
      "source": [
        "Присвоим числовое значение каждому уровню\n"
      ]
    },
    {
      "cell_type": "markdown",
      "metadata": {
        "id": "5K91vx153BFG"
      },
      "source": [
        "Значение | Число \n",
        "--- | --- \n",
        "  All levels | 0\n",
        "  Beginner level | 1\n",
        "  Intermediate level | 2\n",
        "  Expert level | 3\n",
        "\n"
      ]
    },
    {
      "cell_type": "code",
      "metadata": {
        "id": "W8rNMV_u4hyi"
      },
      "source": [
        "#def norm_level(letter: str) -> int:\n",
        "#if letter == \"All Levels\":\n",
        " #   return 0\n",
        " # elif letter == \"Intermediate Level\":\n",
        "  # return 2\n",
        "  #elif letter == \"Beginner Level\":\n",
        "  #  return 1\n",
        "  #elif letter == \"Expert Level\":\n",
        "   # return 3\n"
      ],
      "execution_count": null,
      "outputs": []
    },
    {
      "cell_type": "code",
      "metadata": {
        "id": "mpTMk0Av5iCc"
      },
      "source": [
        "#df_norm[\"level\"] = df_norm[\"level\"].apply(norm_level)\n",
        "#df_norm.head()"
      ],
      "execution_count": null,
      "outputs": []
    },
    {
      "cell_type": "code",
      "metadata": {
        "colab": {
          "base_uri": "https://localhost:8080/"
        },
        "id": "HP__Gv_g_zYI",
        "outputId": "10c3ddee-7b80-4d69-c14a-0e4d7c9190e2"
      },
      "source": [
        "df_norm[\"level\"].unique()\n"
      ],
      "execution_count": null,
      "outputs": [
        {
          "output_type": "execute_result",
          "data": {
            "text/plain": [
              "array(['All Levels', 'Intermediate Level', 'Beginner Level',\n",
              "       'Expert Level'], dtype=object)"
            ]
          },
          "metadata": {
            "tags": []
          },
          "execution_count": 44
        }
      ]
    },
    {
      "cell_type": "code",
      "metadata": {
        "colab": {
          "base_uri": "https://localhost:8080/"
        },
        "id": "_gALfdhUFQyL",
        "outputId": "13f1a61d-e06d-4f48-9226-db8fc6fe053b"
      },
      "source": [
        "df_norm[\"subject\"].unique()"
      ],
      "execution_count": null,
      "outputs": [
        {
          "output_type": "execute_result",
          "data": {
            "text/plain": [
              "array(['Business Finance', 'Graphic Design', 'Musical Instruments',\n",
              "       'Web Development'], dtype=object)"
            ]
          },
          "metadata": {
            "tags": []
          },
          "execution_count": 45
        }
      ]
    },
    {
      "cell_type": "markdown",
      "metadata": {
        "id": "LlWhx_d9FYKl"
      },
      "source": [
        "Значение | Число \n",
        "--- | --- \n",
        "  Business Finance | 0\n",
        "  Graphic Design | 1\n",
        "  Musical Instruments | 2\n",
        "  Web Development | 3"
      ]
    },
    {
      "cell_type": "code",
      "metadata": {
        "id": "IMPs-uA6Fm_8"
      },
      "source": [
        "def norm_subject(letter: str) -> int:\n",
        "  if letter == \"Business Finance\":\n",
        "    return 0\n",
        "  elif letter == \"Musical Instruments\":\n",
        "    return 2\n",
        "  elif letter == \"Graphic Design\":\n",
        "    return 1\n",
        "  elif letter == \"Web Development\":\n",
        "    return 3"
      ],
      "execution_count": null,
      "outputs": []
    },
    {
      "cell_type": "code",
      "metadata": {
        "colab": {
          "base_uri": "https://localhost:8080/",
          "height": 279
        },
        "id": "I5VeWXoFF5Ze",
        "outputId": "2e5c34fe-1e8a-43b3-deff-48899cf07b0b"
      },
      "source": [
        "#df_norm[\"subject\"] = df_norm[\"subject\"].apply(norm_subject)\n",
        "df_norm.head()"
      ],
      "execution_count": null,
      "outputs": [
        {
          "output_type": "execute_result",
          "data": {
            "text/html": [
              "<div>\n",
              "<style scoped>\n",
              "    .dataframe tbody tr th:only-of-type {\n",
              "        vertical-align: middle;\n",
              "    }\n",
              "\n",
              "    .dataframe tbody tr th {\n",
              "        vertical-align: top;\n",
              "    }\n",
              "\n",
              "    .dataframe thead th {\n",
              "        text-align: right;\n",
              "    }\n",
              "</style>\n",
              "<table border=\"1\" class=\"dataframe\">\n",
              "  <thead>\n",
              "    <tr style=\"text-align: right;\">\n",
              "      <th></th>\n",
              "      <th>course_id</th>\n",
              "      <th>is_paid</th>\n",
              "      <th>price</th>\n",
              "      <th>num_subscribers</th>\n",
              "      <th>num_reviews</th>\n",
              "      <th>num_lectures</th>\n",
              "      <th>level</th>\n",
              "      <th>content_duration</th>\n",
              "      <th>published_timestamp</th>\n",
              "      <th>subject</th>\n",
              "    </tr>\n",
              "  </thead>\n",
              "  <tbody>\n",
              "    <tr>\n",
              "      <th>0</th>\n",
              "      <td>1070968</td>\n",
              "      <td>True</td>\n",
              "      <td>200</td>\n",
              "      <td>2147</td>\n",
              "      <td>23</td>\n",
              "      <td>51</td>\n",
              "      <td>All Levels</td>\n",
              "      <td>1.5</td>\n",
              "      <td>2017-01-18T20:58:58Z</td>\n",
              "      <td>Business Finance</td>\n",
              "    </tr>\n",
              "    <tr>\n",
              "      <th>1</th>\n",
              "      <td>1113822</td>\n",
              "      <td>True</td>\n",
              "      <td>75</td>\n",
              "      <td>2792</td>\n",
              "      <td>923</td>\n",
              "      <td>274</td>\n",
              "      <td>All Levels</td>\n",
              "      <td>39.0</td>\n",
              "      <td>2017-03-09T16:34:20Z</td>\n",
              "      <td>Business Finance</td>\n",
              "    </tr>\n",
              "    <tr>\n",
              "      <th>2</th>\n",
              "      <td>1006314</td>\n",
              "      <td>True</td>\n",
              "      <td>45</td>\n",
              "      <td>2174</td>\n",
              "      <td>74</td>\n",
              "      <td>51</td>\n",
              "      <td>Intermediate Level</td>\n",
              "      <td>2.5</td>\n",
              "      <td>2016-12-19T19:26:30Z</td>\n",
              "      <td>Business Finance</td>\n",
              "    </tr>\n",
              "    <tr>\n",
              "      <th>3</th>\n",
              "      <td>1210588</td>\n",
              "      <td>True</td>\n",
              "      <td>95</td>\n",
              "      <td>2451</td>\n",
              "      <td>11</td>\n",
              "      <td>36</td>\n",
              "      <td>All Levels</td>\n",
              "      <td>3.0</td>\n",
              "      <td>2017-05-30T20:07:24Z</td>\n",
              "      <td>Business Finance</td>\n",
              "    </tr>\n",
              "    <tr>\n",
              "      <th>4</th>\n",
              "      <td>1011058</td>\n",
              "      <td>True</td>\n",
              "      <td>200</td>\n",
              "      <td>1276</td>\n",
              "      <td>45</td>\n",
              "      <td>26</td>\n",
              "      <td>Intermediate Level</td>\n",
              "      <td>2.0</td>\n",
              "      <td>2016-12-13T14:57:18Z</td>\n",
              "      <td>Business Finance</td>\n",
              "    </tr>\n",
              "  </tbody>\n",
              "</table>\n",
              "</div>"
            ],
            "text/plain": [
              "   course_id  is_paid  ...   published_timestamp           subject\n",
              "0    1070968     True  ...  2017-01-18T20:58:58Z  Business Finance\n",
              "1    1113822     True  ...  2017-03-09T16:34:20Z  Business Finance\n",
              "2    1006314     True  ...  2016-12-19T19:26:30Z  Business Finance\n",
              "3    1210588     True  ...  2017-05-30T20:07:24Z  Business Finance\n",
              "4    1011058     True  ...  2016-12-13T14:57:18Z  Business Finance\n",
              "\n",
              "[5 rows x 10 columns]"
            ]
          },
          "metadata": {
            "tags": []
          },
          "execution_count": 47
        }
      ]
    },
    {
      "cell_type": "markdown",
      "metadata": {
        "id": "TFmcsWlPEWUK"
      },
      "source": [
        "# Столбец published_timestamp"
      ]
    },
    {
      "cell_type": "code",
      "metadata": {
        "id": "hgIxutIMNFT7"
      },
      "source": [
        "import datetime"
      ],
      "execution_count": null,
      "outputs": []
    },
    {
      "cell_type": "code",
      "metadata": {
        "colab": {
          "base_uri": "https://localhost:8080/"
        },
        "id": "OK8zHhTcOEFR",
        "outputId": "501e0cfa-2f04-426f-9384-4f3043b6549e"
      },
      "source": [
        "df_norm[\"published_timestamp\"].dtype"
      ],
      "execution_count": null,
      "outputs": [
        {
          "output_type": "execute_result",
          "data": {
            "text/plain": [
              "dtype('O')"
            ]
          },
          "metadata": {
            "tags": []
          },
          "execution_count": 49
        }
      ]
    },
    {
      "cell_type": "markdown",
      "metadata": {
        "id": "y_gHGNKKRAV2"
      },
      "source": [
        "Столбец published_timestamp имеет тип object. Переведем его в datetime."
      ]
    },
    {
      "cell_type": "code",
      "metadata": {
        "colab": {
          "base_uri": "https://localhost:8080/",
          "height": 279
        },
        "id": "UN6_48xEMKDq",
        "outputId": "00a5c407-eb33-409d-dfa3-7b1620c3c718"
      },
      "source": [
        "df_norm[\"published_timestamp\"] = pd.to_datetime(df_norm[\"published_timestamp\"])\n",
        "df_norm.head()"
      ],
      "execution_count": null,
      "outputs": [
        {
          "output_type": "execute_result",
          "data": {
            "text/html": [
              "<div>\n",
              "<style scoped>\n",
              "    .dataframe tbody tr th:only-of-type {\n",
              "        vertical-align: middle;\n",
              "    }\n",
              "\n",
              "    .dataframe tbody tr th {\n",
              "        vertical-align: top;\n",
              "    }\n",
              "\n",
              "    .dataframe thead th {\n",
              "        text-align: right;\n",
              "    }\n",
              "</style>\n",
              "<table border=\"1\" class=\"dataframe\">\n",
              "  <thead>\n",
              "    <tr style=\"text-align: right;\">\n",
              "      <th></th>\n",
              "      <th>course_id</th>\n",
              "      <th>is_paid</th>\n",
              "      <th>price</th>\n",
              "      <th>num_subscribers</th>\n",
              "      <th>num_reviews</th>\n",
              "      <th>num_lectures</th>\n",
              "      <th>level</th>\n",
              "      <th>content_duration</th>\n",
              "      <th>published_timestamp</th>\n",
              "      <th>subject</th>\n",
              "    </tr>\n",
              "  </thead>\n",
              "  <tbody>\n",
              "    <tr>\n",
              "      <th>0</th>\n",
              "      <td>1070968</td>\n",
              "      <td>True</td>\n",
              "      <td>200</td>\n",
              "      <td>2147</td>\n",
              "      <td>23</td>\n",
              "      <td>51</td>\n",
              "      <td>All Levels</td>\n",
              "      <td>1.5</td>\n",
              "      <td>2017-01-18 20:58:58+00:00</td>\n",
              "      <td>Business Finance</td>\n",
              "    </tr>\n",
              "    <tr>\n",
              "      <th>1</th>\n",
              "      <td>1113822</td>\n",
              "      <td>True</td>\n",
              "      <td>75</td>\n",
              "      <td>2792</td>\n",
              "      <td>923</td>\n",
              "      <td>274</td>\n",
              "      <td>All Levels</td>\n",
              "      <td>39.0</td>\n",
              "      <td>2017-03-09 16:34:20+00:00</td>\n",
              "      <td>Business Finance</td>\n",
              "    </tr>\n",
              "    <tr>\n",
              "      <th>2</th>\n",
              "      <td>1006314</td>\n",
              "      <td>True</td>\n",
              "      <td>45</td>\n",
              "      <td>2174</td>\n",
              "      <td>74</td>\n",
              "      <td>51</td>\n",
              "      <td>Intermediate Level</td>\n",
              "      <td>2.5</td>\n",
              "      <td>2016-12-19 19:26:30+00:00</td>\n",
              "      <td>Business Finance</td>\n",
              "    </tr>\n",
              "    <tr>\n",
              "      <th>3</th>\n",
              "      <td>1210588</td>\n",
              "      <td>True</td>\n",
              "      <td>95</td>\n",
              "      <td>2451</td>\n",
              "      <td>11</td>\n",
              "      <td>36</td>\n",
              "      <td>All Levels</td>\n",
              "      <td>3.0</td>\n",
              "      <td>2017-05-30 20:07:24+00:00</td>\n",
              "      <td>Business Finance</td>\n",
              "    </tr>\n",
              "    <tr>\n",
              "      <th>4</th>\n",
              "      <td>1011058</td>\n",
              "      <td>True</td>\n",
              "      <td>200</td>\n",
              "      <td>1276</td>\n",
              "      <td>45</td>\n",
              "      <td>26</td>\n",
              "      <td>Intermediate Level</td>\n",
              "      <td>2.0</td>\n",
              "      <td>2016-12-13 14:57:18+00:00</td>\n",
              "      <td>Business Finance</td>\n",
              "    </tr>\n",
              "  </tbody>\n",
              "</table>\n",
              "</div>"
            ],
            "text/plain": [
              "   course_id  is_paid  ...       published_timestamp           subject\n",
              "0    1070968     True  ... 2017-01-18 20:58:58+00:00  Business Finance\n",
              "1    1113822     True  ... 2017-03-09 16:34:20+00:00  Business Finance\n",
              "2    1006314     True  ... 2016-12-19 19:26:30+00:00  Business Finance\n",
              "3    1210588     True  ... 2017-05-30 20:07:24+00:00  Business Finance\n",
              "4    1011058     True  ... 2016-12-13 14:57:18+00:00  Business Finance\n",
              "\n",
              "[5 rows x 10 columns]"
            ]
          },
          "metadata": {
            "tags": []
          },
          "execution_count": 50
        }
      ]
    },
    {
      "cell_type": "code",
      "metadata": {
        "colab": {
          "base_uri": "https://localhost:8080/"
        },
        "id": "RszRa1ufTcpU",
        "outputId": "42d0a2c9-d89a-4285-e948-d6250b045f07"
      },
      "source": [
        "df_norm[\"published_timestamp\"].dtype"
      ],
      "execution_count": null,
      "outputs": [
        {
          "output_type": "execute_result",
          "data": {
            "text/plain": [
              "datetime64[ns, UTC]"
            ]
          },
          "metadata": {
            "tags": []
          },
          "execution_count": 51
        }
      ]
    },
    {
      "cell_type": "markdown",
      "metadata": {
        "id": "cryLyKcaZb8c"
      },
      "source": [
        "# Проверка на ошибочные данные"
      ]
    },
    {
      "cell_type": "markdown",
      "metadata": {
        "id": "EG974U6DZjF4"
      },
      "source": [
        "Проверим остальные столбцы на корректность содержащихся в них данных"
      ]
    },
    {
      "cell_type": "code",
      "metadata": {
        "colab": {
          "base_uri": "https://localhost:8080/"
        },
        "id": "TmAGhBwKZ2Xp",
        "outputId": "a7b22872-6040-49ff-ac71-90bdd59a3f60"
      },
      "source": [
        "df_norm[\"is_paid\"].unique()"
      ],
      "execution_count": null,
      "outputs": [
        {
          "output_type": "execute_result",
          "data": {
            "text/plain": [
              "array([ True, False])"
            ]
          },
          "metadata": {
            "tags": []
          },
          "execution_count": 52
        }
      ]
    },
    {
      "cell_type": "code",
      "metadata": {
        "colab": {
          "base_uri": "https://localhost:8080/"
        },
        "id": "AMeFnuVUaf_r",
        "outputId": "9d0e63aa-68ec-4496-e668-ba4eb67284a5"
      },
      "source": [
        "df_norm[\"published_timestamp\"].unique()"
      ],
      "execution_count": null,
      "outputs": [
        {
          "output_type": "execute_result",
          "data": {
            "text/plain": [
              "<DatetimeArray>\n",
              "['2017-01-18 20:58:58+00:00', '2017-03-09 16:34:20+00:00',\n",
              " '2016-12-19 19:26:30+00:00', '2017-05-30 20:07:24+00:00',\n",
              " '2016-12-13 14:57:18+00:00', '2014-05-02 15:13:30+00:00',\n",
              " '2016-02-21 18:23:12+00:00', '2015-01-30 22:13:03+00:00',\n",
              " '2015-05-28 00:14:03+00:00', '2017-04-18 18:13:32+00:00',\n",
              " ...\n",
              " '2014-08-10 20:19:10+00:00', '2015-11-29 22:02:02+00:00',\n",
              " '2014-12-19 21:38:54+00:00', '2015-11-19 17:22:47+00:00',\n",
              " '2016-10-10 22:00:32+00:00', '2016-06-14 17:36:46+00:00',\n",
              " '2017-03-10 22:24:30+00:00', '2015-12-30 16:41:42+00:00',\n",
              " '2016-08-11 19:06:15+00:00', '2014-09-28 19:51:11+00:00']\n",
              "Length: 3672, dtype: datetime64[ns, UTC]"
            ]
          },
          "metadata": {
            "tags": []
          },
          "execution_count": 53
        }
      ]
    },
    {
      "cell_type": "code",
      "metadata": {
        "colab": {
          "base_uri": "https://localhost:8080/"
        },
        "id": "LDsmtLmIa9F-",
        "outputId": "0332a9f3-90d1-4350-f0b8-9d319283de31"
      },
      "source": [
        "print(df_norm[\"num_subscribers\"].max())\n",
        "print(df_norm[\"num_subscribers\"].min())"
      ],
      "execution_count": null,
      "outputs": [
        {
          "output_type": "stream",
          "text": [
            "268923\n",
            "0\n"
          ],
          "name": "stdout"
        }
      ]
    },
    {
      "cell_type": "markdown",
      "metadata": {
        "id": "vumaN60rhUjj"
      },
      "source": [
        "Все значение адекватные и характерны для данного столбца"
      ]
    },
    {
      "cell_type": "code",
      "metadata": {
        "colab": {
          "base_uri": "https://localhost:8080/"
        },
        "id": "W35BGhhybMUS",
        "outputId": "bee78bad-77d4-4537-c595-87fa8cc1e092"
      },
      "source": [
        "price_stat = {\"mean\": df_norm[\"num_subscribers\"].mean(),\n",
        "            \"median\": df_norm[\"num_subscribers\"].median(),\n",
        "            \"mode\": df_norm[\"num_subscribers\"].mode().to_list(),\n",
        "            \"interquartile_range\": df_norm[\"num_subscribers\"].quantile(0.75) - df_norm[\"num_subscribers\"].quantile(0.25),\n",
        "            }\n",
        "price_stat"
      ],
      "execution_count": null,
      "outputs": [
        {
          "output_type": "execute_result",
          "data": {
            "text/plain": [
              "{'interquartile_range': 2435.0,\n",
              " 'mean': 3197.150625339859,\n",
              " 'median': 911.5,\n",
              " 'mode': [0]}"
            ]
          },
          "metadata": {
            "tags": []
          },
          "execution_count": 55
        }
      ]
    },
    {
      "cell_type": "markdown",
      "metadata": {
        "id": "PhiUoTZMbjCq"
      },
      "source": [
        "Выбросами считаются значения, входящие в 5% крайних с обеих сторон процентов ранжированной выборки. Т.е. первые 5% и последние 5%. Посмотрим, какие значения попадают в эти диапазоны в этом датасете."
      ]
    },
    {
      "cell_type": "code",
      "metadata": {
        "colab": {
          "base_uri": "https://localhost:8080/"
        },
        "id": "H2FKiZ6vbpg2",
        "outputId": "b9f6270f-f6d6-483e-b8cb-50e8c8cbd40a"
      },
      "source": [
        "print(df_norm[\"num_subscribers\"].quantile(0.05))\n",
        "print(df_norm[\"num_subscribers\"].quantile(0.95))"
      ],
      "execution_count": null,
      "outputs": [
        {
          "output_type": "stream",
          "text": [
            "4.0\n",
            "12786.099999999988\n"
          ],
          "name": "stdout"
        }
      ]
    },
    {
      "cell_type": "code",
      "metadata": {
        "colab": {
          "base_uri": "https://localhost:8080/"
        },
        "id": "MsD3xbKZc8bX",
        "outputId": "d737cc30-c22d-4105-aac5-56f54bf2a1fe"
      },
      "source": [
        "print(df_norm[\"num_subscribers\"][df_norm.num_subscribers < 4.0].count())\n",
        "print(df_norm[\"num_subscribers\"][df_norm.num_subscribers > 12786.099999999988].count())"
      ],
      "execution_count": null,
      "outputs": [
        {
          "output_type": "stream",
          "text": [
            "172\n",
            "184\n"
          ],
          "name": "stdout"
        }
      ]
    },
    {
      "cell_type": "markdown",
      "metadata": {
        "id": "TQa0BH96exc9"
      },
      "source": [
        "Курсы с очень маленьким колвом подписчиков можно удалить из датасета"
      ]
    },
    {
      "cell_type": "code",
      "metadata": {
        "colab": {
          "base_uri": "https://localhost:8080/",
          "height": 570
        },
        "id": "8Rk3RNgieokL",
        "outputId": "7ea03272-08cb-4402-8d75-6bf293804847"
      },
      "source": [
        "df_norm = df_norm[df_norm.num_subscribers > 4.0]\n",
        "df_norm"
      ],
      "execution_count": null,
      "outputs": [
        {
          "output_type": "execute_result",
          "data": {
            "text/html": [
              "<div>\n",
              "<style scoped>\n",
              "    .dataframe tbody tr th:only-of-type {\n",
              "        vertical-align: middle;\n",
              "    }\n",
              "\n",
              "    .dataframe tbody tr th {\n",
              "        vertical-align: top;\n",
              "    }\n",
              "\n",
              "    .dataframe thead th {\n",
              "        text-align: right;\n",
              "    }\n",
              "</style>\n",
              "<table border=\"1\" class=\"dataframe\">\n",
              "  <thead>\n",
              "    <tr style=\"text-align: right;\">\n",
              "      <th></th>\n",
              "      <th>course_id</th>\n",
              "      <th>is_paid</th>\n",
              "      <th>price</th>\n",
              "      <th>num_subscribers</th>\n",
              "      <th>num_reviews</th>\n",
              "      <th>num_lectures</th>\n",
              "      <th>level</th>\n",
              "      <th>content_duration</th>\n",
              "      <th>published_timestamp</th>\n",
              "      <th>subject</th>\n",
              "    </tr>\n",
              "  </thead>\n",
              "  <tbody>\n",
              "    <tr>\n",
              "      <th>0</th>\n",
              "      <td>1070968</td>\n",
              "      <td>True</td>\n",
              "      <td>200</td>\n",
              "      <td>2147</td>\n",
              "      <td>23</td>\n",
              "      <td>51</td>\n",
              "      <td>All Levels</td>\n",
              "      <td>1.5</td>\n",
              "      <td>2017-01-18 20:58:58+00:00</td>\n",
              "      <td>Business Finance</td>\n",
              "    </tr>\n",
              "    <tr>\n",
              "      <th>1</th>\n",
              "      <td>1113822</td>\n",
              "      <td>True</td>\n",
              "      <td>75</td>\n",
              "      <td>2792</td>\n",
              "      <td>923</td>\n",
              "      <td>274</td>\n",
              "      <td>All Levels</td>\n",
              "      <td>39.0</td>\n",
              "      <td>2017-03-09 16:34:20+00:00</td>\n",
              "      <td>Business Finance</td>\n",
              "    </tr>\n",
              "    <tr>\n",
              "      <th>2</th>\n",
              "      <td>1006314</td>\n",
              "      <td>True</td>\n",
              "      <td>45</td>\n",
              "      <td>2174</td>\n",
              "      <td>74</td>\n",
              "      <td>51</td>\n",
              "      <td>Intermediate Level</td>\n",
              "      <td>2.5</td>\n",
              "      <td>2016-12-19 19:26:30+00:00</td>\n",
              "      <td>Business Finance</td>\n",
              "    </tr>\n",
              "    <tr>\n",
              "      <th>3</th>\n",
              "      <td>1210588</td>\n",
              "      <td>True</td>\n",
              "      <td>95</td>\n",
              "      <td>2451</td>\n",
              "      <td>11</td>\n",
              "      <td>36</td>\n",
              "      <td>All Levels</td>\n",
              "      <td>3.0</td>\n",
              "      <td>2017-05-30 20:07:24+00:00</td>\n",
              "      <td>Business Finance</td>\n",
              "    </tr>\n",
              "    <tr>\n",
              "      <th>4</th>\n",
              "      <td>1011058</td>\n",
              "      <td>True</td>\n",
              "      <td>200</td>\n",
              "      <td>1276</td>\n",
              "      <td>45</td>\n",
              "      <td>26</td>\n",
              "      <td>Intermediate Level</td>\n",
              "      <td>2.0</td>\n",
              "      <td>2016-12-13 14:57:18+00:00</td>\n",
              "      <td>Business Finance</td>\n",
              "    </tr>\n",
              "    <tr>\n",
              "      <th>...</th>\n",
              "      <td>...</td>\n",
              "      <td>...</td>\n",
              "      <td>...</td>\n",
              "      <td>...</td>\n",
              "      <td>...</td>\n",
              "      <td>...</td>\n",
              "      <td>...</td>\n",
              "      <td>...</td>\n",
              "      <td>...</td>\n",
              "      <td>...</td>\n",
              "    </tr>\n",
              "    <tr>\n",
              "      <th>3673</th>\n",
              "      <td>775618</td>\n",
              "      <td>True</td>\n",
              "      <td>100</td>\n",
              "      <td>1040</td>\n",
              "      <td>14</td>\n",
              "      <td>21</td>\n",
              "      <td>All Levels</td>\n",
              "      <td>2.0</td>\n",
              "      <td>2016-06-14 17:36:46+00:00</td>\n",
              "      <td>Web Development</td>\n",
              "    </tr>\n",
              "    <tr>\n",
              "      <th>3674</th>\n",
              "      <td>1088178</td>\n",
              "      <td>True</td>\n",
              "      <td>25</td>\n",
              "      <td>306</td>\n",
              "      <td>3</td>\n",
              "      <td>42</td>\n",
              "      <td>Beginner Level</td>\n",
              "      <td>3.5</td>\n",
              "      <td>2017-03-10 22:24:30+00:00</td>\n",
              "      <td>Web Development</td>\n",
              "    </tr>\n",
              "    <tr>\n",
              "      <th>3675</th>\n",
              "      <td>635248</td>\n",
              "      <td>True</td>\n",
              "      <td>40</td>\n",
              "      <td>513</td>\n",
              "      <td>169</td>\n",
              "      <td>48</td>\n",
              "      <td>All Levels</td>\n",
              "      <td>3.5</td>\n",
              "      <td>2015-12-30 16:41:42+00:00</td>\n",
              "      <td>Web Development</td>\n",
              "    </tr>\n",
              "    <tr>\n",
              "      <th>3676</th>\n",
              "      <td>905096</td>\n",
              "      <td>True</td>\n",
              "      <td>50</td>\n",
              "      <td>300</td>\n",
              "      <td>31</td>\n",
              "      <td>38</td>\n",
              "      <td>All Levels</td>\n",
              "      <td>3.0</td>\n",
              "      <td>2016-08-11 19:06:15+00:00</td>\n",
              "      <td>Web Development</td>\n",
              "    </tr>\n",
              "    <tr>\n",
              "      <th>3677</th>\n",
              "      <td>297602</td>\n",
              "      <td>True</td>\n",
              "      <td>45</td>\n",
              "      <td>901</td>\n",
              "      <td>36</td>\n",
              "      <td>20</td>\n",
              "      <td>Beginner Level</td>\n",
              "      <td>2.0</td>\n",
              "      <td>2014-09-28 19:51:11+00:00</td>\n",
              "      <td>Web Development</td>\n",
              "    </tr>\n",
              "  </tbody>\n",
              "</table>\n",
              "<p>3480 rows × 10 columns</p>\n",
              "</div>"
            ],
            "text/plain": [
              "      course_id  is_paid  ...       published_timestamp           subject\n",
              "0       1070968     True  ... 2017-01-18 20:58:58+00:00  Business Finance\n",
              "1       1113822     True  ... 2017-03-09 16:34:20+00:00  Business Finance\n",
              "2       1006314     True  ... 2016-12-19 19:26:30+00:00  Business Finance\n",
              "3       1210588     True  ... 2017-05-30 20:07:24+00:00  Business Finance\n",
              "4       1011058     True  ... 2016-12-13 14:57:18+00:00  Business Finance\n",
              "...         ...      ...  ...                       ...               ...\n",
              "3673     775618     True  ... 2016-06-14 17:36:46+00:00   Web Development\n",
              "3674    1088178     True  ... 2017-03-10 22:24:30+00:00   Web Development\n",
              "3675     635248     True  ... 2015-12-30 16:41:42+00:00   Web Development\n",
              "3676     905096     True  ... 2016-08-11 19:06:15+00:00   Web Development\n",
              "3677     297602     True  ... 2014-09-28 19:51:11+00:00   Web Development\n",
              "\n",
              "[3480 rows x 10 columns]"
            ]
          },
          "metadata": {
            "tags": []
          },
          "execution_count": 58
        }
      ]
    },
    {
      "cell_type": "markdown",
      "metadata": {
        "id": "fdfj8e_VjUpM"
      },
      "source": [
        "Т.к. пустых значений в датасете нет, столбцы содержат адекватные данные, опечаток не наблюдается, то можно считать на данный момент предобработку выполненной."
      ]
    },
    {
      "cell_type": "markdown",
      "metadata": {
        "id": "LinVpuoF46kQ"
      },
      "source": [
        "#Обработка пустых ячеек"
      ]
    },
    {
      "cell_type": "code",
      "metadata": {
        "id": "UU8gXCUP5UPK"
      },
      "source": [
        "import numpy as np\n"
      ],
      "execution_count": null,
      "outputs": []
    },
    {
      "cell_type": "code",
      "metadata": {
        "id": "S2Ifohmd5f7i"
      },
      "source": [
        "def nan_to_median(cell, col) -> int:\n",
        "  if np.isnan(cell):\n",
        "    return np.nanmedian(col)\n",
        "  else:\n",
        "    return cell"
      ],
      "execution_count": null,
      "outputs": []
    },
    {
      "cell_type": "code",
      "metadata": {
        "colab": {
          "base_uri": "https://localhost:8080/",
          "height": 279
        },
        "id": "anPwHSUZ5tZJ",
        "outputId": "e74a540a-1652-489c-d817-b5045ee42b60"
      },
      "source": [
        "#df[\"num_subscribers\"] = df[\"num_subscribers\"].apply(nan_to_median, col=df[\"num_subscribers\"].to_list())\n",
        "df_norm.head()"
      ],
      "execution_count": null,
      "outputs": [
        {
          "output_type": "execute_result",
          "data": {
            "text/html": [
              "<div>\n",
              "<style scoped>\n",
              "    .dataframe tbody tr th:only-of-type {\n",
              "        vertical-align: middle;\n",
              "    }\n",
              "\n",
              "    .dataframe tbody tr th {\n",
              "        vertical-align: top;\n",
              "    }\n",
              "\n",
              "    .dataframe thead th {\n",
              "        text-align: right;\n",
              "    }\n",
              "</style>\n",
              "<table border=\"1\" class=\"dataframe\">\n",
              "  <thead>\n",
              "    <tr style=\"text-align: right;\">\n",
              "      <th></th>\n",
              "      <th>course_id</th>\n",
              "      <th>is_paid</th>\n",
              "      <th>price</th>\n",
              "      <th>num_subscribers</th>\n",
              "      <th>num_reviews</th>\n",
              "      <th>num_lectures</th>\n",
              "      <th>level</th>\n",
              "      <th>content_duration</th>\n",
              "      <th>published_timestamp</th>\n",
              "      <th>subject</th>\n",
              "    </tr>\n",
              "  </thead>\n",
              "  <tbody>\n",
              "    <tr>\n",
              "      <th>0</th>\n",
              "      <td>1070968</td>\n",
              "      <td>True</td>\n",
              "      <td>200</td>\n",
              "      <td>2147</td>\n",
              "      <td>23</td>\n",
              "      <td>51</td>\n",
              "      <td>All Levels</td>\n",
              "      <td>1.5</td>\n",
              "      <td>2017-01-18 20:58:58+00:00</td>\n",
              "      <td>Business Finance</td>\n",
              "    </tr>\n",
              "    <tr>\n",
              "      <th>1</th>\n",
              "      <td>1113822</td>\n",
              "      <td>True</td>\n",
              "      <td>75</td>\n",
              "      <td>2792</td>\n",
              "      <td>923</td>\n",
              "      <td>274</td>\n",
              "      <td>All Levels</td>\n",
              "      <td>39.0</td>\n",
              "      <td>2017-03-09 16:34:20+00:00</td>\n",
              "      <td>Business Finance</td>\n",
              "    </tr>\n",
              "    <tr>\n",
              "      <th>2</th>\n",
              "      <td>1006314</td>\n",
              "      <td>True</td>\n",
              "      <td>45</td>\n",
              "      <td>2174</td>\n",
              "      <td>74</td>\n",
              "      <td>51</td>\n",
              "      <td>Intermediate Level</td>\n",
              "      <td>2.5</td>\n",
              "      <td>2016-12-19 19:26:30+00:00</td>\n",
              "      <td>Business Finance</td>\n",
              "    </tr>\n",
              "    <tr>\n",
              "      <th>3</th>\n",
              "      <td>1210588</td>\n",
              "      <td>True</td>\n",
              "      <td>95</td>\n",
              "      <td>2451</td>\n",
              "      <td>11</td>\n",
              "      <td>36</td>\n",
              "      <td>All Levels</td>\n",
              "      <td>3.0</td>\n",
              "      <td>2017-05-30 20:07:24+00:00</td>\n",
              "      <td>Business Finance</td>\n",
              "    </tr>\n",
              "    <tr>\n",
              "      <th>4</th>\n",
              "      <td>1011058</td>\n",
              "      <td>True</td>\n",
              "      <td>200</td>\n",
              "      <td>1276</td>\n",
              "      <td>45</td>\n",
              "      <td>26</td>\n",
              "      <td>Intermediate Level</td>\n",
              "      <td>2.0</td>\n",
              "      <td>2016-12-13 14:57:18+00:00</td>\n",
              "      <td>Business Finance</td>\n",
              "    </tr>\n",
              "  </tbody>\n",
              "</table>\n",
              "</div>"
            ],
            "text/plain": [
              "   course_id  is_paid  ...       published_timestamp           subject\n",
              "0    1070968     True  ... 2017-01-18 20:58:58+00:00  Business Finance\n",
              "1    1113822     True  ... 2017-03-09 16:34:20+00:00  Business Finance\n",
              "2    1006314     True  ... 2016-12-19 19:26:30+00:00  Business Finance\n",
              "3    1210588     True  ... 2017-05-30 20:07:24+00:00  Business Finance\n",
              "4    1011058     True  ... 2016-12-13 14:57:18+00:00  Business Finance\n",
              "\n",
              "[5 rows x 10 columns]"
            ]
          },
          "metadata": {
            "tags": []
          },
          "execution_count": 61
        }
      ]
    },
    {
      "cell_type": "code",
      "metadata": {
        "colab": {
          "base_uri": "https://localhost:8080/"
        },
        "id": "kq8Olffy8dI0",
        "outputId": "ee1df2ab-a8ef-4710-c61b-b2860eda9e12"
      },
      "source": [
        "df.isnull().sum()"
      ],
      "execution_count": null,
      "outputs": [
        {
          "output_type": "execute_result",
          "data": {
            "text/plain": [
              "course_id              0\n",
              "is_paid                0\n",
              "price                  0\n",
              "num_subscribers        0\n",
              "num_reviews            0\n",
              "num_lectures           0\n",
              "level                  0\n",
              "content_duration       0\n",
              "published_timestamp    0\n",
              "subject                0\n",
              "dtype: int64"
            ]
          },
          "metadata": {
            "tags": []
          },
          "execution_count": 62
        }
      ]
    },
    {
      "cell_type": "markdown",
      "metadata": {
        "id": "pSX9YkyX-syQ"
      },
      "source": [
        "Видно, что в датафрейме нет пустых столбцов"
      ]
    },
    {
      "cell_type": "code",
      "metadata": {
        "colab": {
          "base_uri": "https://localhost:8080/",
          "height": 17
        },
        "id": "G17PiwYLH_IQ",
        "outputId": "64cb2130-e288-4070-b18d-c535dd9e1481"
      },
      "source": [
        "from google.colab import files\n",
        "df_norm.to_csv('./df_norm.csv', sep = ',', index = False)\n",
        "files.download('df_norm.csv') "
      ],
      "execution_count": null,
      "outputs": [
        {
          "output_type": "display_data",
          "data": {
            "application/javascript": [
              "\n",
              "    async function download(id, filename, size) {\n",
              "      if (!google.colab.kernel.accessAllowed) {\n",
              "        return;\n",
              "      }\n",
              "      const div = document.createElement('div');\n",
              "      const label = document.createElement('label');\n",
              "      label.textContent = `Downloading \"${filename}\": `;\n",
              "      div.appendChild(label);\n",
              "      const progress = document.createElement('progress');\n",
              "      progress.max = size;\n",
              "      div.appendChild(progress);\n",
              "      document.body.appendChild(div);\n",
              "\n",
              "      const buffers = [];\n",
              "      let downloaded = 0;\n",
              "\n",
              "      const channel = await google.colab.kernel.comms.open(id);\n",
              "      // Send a message to notify the kernel that we're ready.\n",
              "      channel.send({})\n",
              "\n",
              "      for await (const message of channel.messages) {\n",
              "        // Send a message to notify the kernel that we're ready.\n",
              "        channel.send({})\n",
              "        if (message.buffers) {\n",
              "          for (const buffer of message.buffers) {\n",
              "            buffers.push(buffer);\n",
              "            downloaded += buffer.byteLength;\n",
              "            progress.value = downloaded;\n",
              "          }\n",
              "        }\n",
              "      }\n",
              "      const blob = new Blob(buffers, {type: 'application/binary'});\n",
              "      const a = document.createElement('a');\n",
              "      a.href = window.URL.createObjectURL(blob);\n",
              "      a.download = filename;\n",
              "      div.appendChild(a);\n",
              "      a.click();\n",
              "      div.remove();\n",
              "    }\n",
              "  "
            ],
            "text/plain": [
              "<IPython.core.display.Javascript object>"
            ]
          },
          "metadata": {
            "tags": []
          }
        },
        {
          "output_type": "display_data",
          "data": {
            "application/javascript": [
              "download(\"download_e8a8cc6e-8c2f-4c21-bf10-83f0ab9e42b3\", \"df_norm.csv\", 302007)"
            ],
            "text/plain": [
              "<IPython.core.display.Javascript object>"
            ]
          },
          "metadata": {
            "tags": []
          }
        }
      ]
    }
  ]
}